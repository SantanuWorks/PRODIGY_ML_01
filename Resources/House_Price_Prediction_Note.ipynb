{
 "cells": [
  {
   "cell_type": "markdown",
   "id": "5811243a",
   "metadata": {},
   "source": [
    "# House Price Prediction using Linear Regression"
   ]
  },
  {
   "cell_type": "markdown",
   "id": "f0c9fd06-8804-401c-ba5a-28a6e0fe20a9",
   "metadata": {},
   "source": [
    "### Importing data handling modules"
   ]
  },
  {
   "cell_type": "code",
   "execution_count": 1,
   "id": "241b9ac5-6522-457e-ba6c-5bbd9bfd2915",
   "metadata": {},
   "outputs": [],
   "source": [
    "import pandas as pd\n",
    "import numpy as np\n",
    "import matplotlib.pyplot as plt"
   ]
  },
  {
   "cell_type": "markdown",
   "id": "ebf6ef53-07ad-4de9-affe-f808f84c9c55",
   "metadata": {},
   "source": [
    "### Reading house pricing dataset"
   ]
  },
  {
   "cell_type": "code",
   "execution_count": 2,
   "id": "ab229539-ba66-410b-91ee-f477edb37791",
   "metadata": {},
   "outputs": [],
   "source": [
    "housedata = pd.read_csv(\"dataset/houseprice.csv\")"
   ]
  },
  {
   "cell_type": "markdown",
   "id": "e0a9a25c-b5b7-494e-b464-cde3538395f4",
   "metadata": {},
   "source": [
    "### View dataset"
   ]
  },
  {
   "cell_type": "code",
   "execution_count": 3,
   "id": "febd433b-22a7-4037-a023-c81d10acb555",
   "metadata": {},
   "outputs": [
    {
     "data": {
      "text/html": [
       "<div>\n",
       "<style scoped>\n",
       "    .dataframe tbody tr th:only-of-type {\n",
       "        vertical-align: middle;\n",
       "    }\n",
       "\n",
       "    .dataframe tbody tr th {\n",
       "        vertical-align: top;\n",
       "    }\n",
       "\n",
       "    .dataframe thead th {\n",
       "        text-align: right;\n",
       "    }\n",
       "</style>\n",
       "<table border=\"1\" class=\"dataframe\">\n",
       "  <thead>\n",
       "    <tr style=\"text-align: right;\">\n",
       "      <th></th>\n",
       "      <th>price</th>\n",
       "      <th>area</th>\n",
       "      <th>bedrooms</th>\n",
       "      <th>bathrooms</th>\n",
       "    </tr>\n",
       "  </thead>\n",
       "  <tbody>\n",
       "    <tr>\n",
       "      <th>0</th>\n",
       "      <td>13300000</td>\n",
       "      <td>7420</td>\n",
       "      <td>4</td>\n",
       "      <td>2</td>\n",
       "    </tr>\n",
       "    <tr>\n",
       "      <th>1</th>\n",
       "      <td>12250000</td>\n",
       "      <td>8960</td>\n",
       "      <td>4</td>\n",
       "      <td>4</td>\n",
       "    </tr>\n",
       "    <tr>\n",
       "      <th>2</th>\n",
       "      <td>12250000</td>\n",
       "      <td>9960</td>\n",
       "      <td>3</td>\n",
       "      <td>2</td>\n",
       "    </tr>\n",
       "    <tr>\n",
       "      <th>3</th>\n",
       "      <td>12215000</td>\n",
       "      <td>7500</td>\n",
       "      <td>4</td>\n",
       "      <td>2</td>\n",
       "    </tr>\n",
       "    <tr>\n",
       "      <th>4</th>\n",
       "      <td>11410000</td>\n",
       "      <td>7420</td>\n",
       "      <td>4</td>\n",
       "      <td>1</td>\n",
       "    </tr>\n",
       "    <tr>\n",
       "      <th>...</th>\n",
       "      <td>...</td>\n",
       "      <td>...</td>\n",
       "      <td>...</td>\n",
       "      <td>...</td>\n",
       "    </tr>\n",
       "    <tr>\n",
       "      <th>540</th>\n",
       "      <td>1820000</td>\n",
       "      <td>3000</td>\n",
       "      <td>2</td>\n",
       "      <td>1</td>\n",
       "    </tr>\n",
       "    <tr>\n",
       "      <th>541</th>\n",
       "      <td>1767150</td>\n",
       "      <td>2400</td>\n",
       "      <td>3</td>\n",
       "      <td>1</td>\n",
       "    </tr>\n",
       "    <tr>\n",
       "      <th>542</th>\n",
       "      <td>1750000</td>\n",
       "      <td>3620</td>\n",
       "      <td>2</td>\n",
       "      <td>1</td>\n",
       "    </tr>\n",
       "    <tr>\n",
       "      <th>543</th>\n",
       "      <td>1750000</td>\n",
       "      <td>2910</td>\n",
       "      <td>3</td>\n",
       "      <td>1</td>\n",
       "    </tr>\n",
       "    <tr>\n",
       "      <th>544</th>\n",
       "      <td>1750000</td>\n",
       "      <td>3850</td>\n",
       "      <td>3</td>\n",
       "      <td>1</td>\n",
       "    </tr>\n",
       "  </tbody>\n",
       "</table>\n",
       "<p>545 rows × 4 columns</p>\n",
       "</div>"
      ],
      "text/plain": [
       "        price  area  bedrooms  bathrooms\n",
       "0    13300000  7420         4          2\n",
       "1    12250000  8960         4          4\n",
       "2    12250000  9960         3          2\n",
       "3    12215000  7500         4          2\n",
       "4    11410000  7420         4          1\n",
       "..        ...   ...       ...        ...\n",
       "540   1820000  3000         2          1\n",
       "541   1767150  2400         3          1\n",
       "542   1750000  3620         2          1\n",
       "543   1750000  2910         3          1\n",
       "544   1750000  3850         3          1\n",
       "\n",
       "[545 rows x 4 columns]"
      ]
     },
     "execution_count": 3,
     "metadata": {},
     "output_type": "execute_result"
    }
   ],
   "source": [
    "housedata"
   ]
  },
  {
   "cell_type": "markdown",
   "id": "20de1aeb-9579-4f7e-aef0-cb41d0076093",
   "metadata": {},
   "source": [
    "### Glance at data"
   ]
  },
  {
   "cell_type": "code",
   "execution_count": 4,
   "id": "7376d6f5-3b8e-42d4-946b-2543690a891c",
   "metadata": {},
   "outputs": [
    {
     "data": {
      "text/html": [
       "<div>\n",
       "<style scoped>\n",
       "    .dataframe tbody tr th:only-of-type {\n",
       "        vertical-align: middle;\n",
       "    }\n",
       "\n",
       "    .dataframe tbody tr th {\n",
       "        vertical-align: top;\n",
       "    }\n",
       "\n",
       "    .dataframe thead th {\n",
       "        text-align: right;\n",
       "    }\n",
       "</style>\n",
       "<table border=\"1\" class=\"dataframe\">\n",
       "  <thead>\n",
       "    <tr style=\"text-align: right;\">\n",
       "      <th></th>\n",
       "      <th>price</th>\n",
       "      <th>area</th>\n",
       "      <th>bedrooms</th>\n",
       "      <th>bathrooms</th>\n",
       "    </tr>\n",
       "  </thead>\n",
       "  <tbody>\n",
       "    <tr>\n",
       "      <th>0</th>\n",
       "      <td>13300000</td>\n",
       "      <td>7420</td>\n",
       "      <td>4</td>\n",
       "      <td>2</td>\n",
       "    </tr>\n",
       "    <tr>\n",
       "      <th>1</th>\n",
       "      <td>12250000</td>\n",
       "      <td>8960</td>\n",
       "      <td>4</td>\n",
       "      <td>4</td>\n",
       "    </tr>\n",
       "    <tr>\n",
       "      <th>2</th>\n",
       "      <td>12250000</td>\n",
       "      <td>9960</td>\n",
       "      <td>3</td>\n",
       "      <td>2</td>\n",
       "    </tr>\n",
       "    <tr>\n",
       "      <th>3</th>\n",
       "      <td>12215000</td>\n",
       "      <td>7500</td>\n",
       "      <td>4</td>\n",
       "      <td>2</td>\n",
       "    </tr>\n",
       "    <tr>\n",
       "      <th>4</th>\n",
       "      <td>11410000</td>\n",
       "      <td>7420</td>\n",
       "      <td>4</td>\n",
       "      <td>1</td>\n",
       "    </tr>\n",
       "  </tbody>\n",
       "</table>\n",
       "</div>"
      ],
      "text/plain": [
       "      price  area  bedrooms  bathrooms\n",
       "0  13300000  7420         4          2\n",
       "1  12250000  8960         4          4\n",
       "2  12250000  9960         3          2\n",
       "3  12215000  7500         4          2\n",
       "4  11410000  7420         4          1"
      ]
     },
     "execution_count": 4,
     "metadata": {},
     "output_type": "execute_result"
    }
   ],
   "source": [
    "housedata.head()"
   ]
  },
  {
   "cell_type": "markdown",
   "id": "b9633179-7ea3-4acc-adba-29d3aa54d85d",
   "metadata": {},
   "source": [
    "### Description and information about our dataset"
   ]
  },
  {
   "cell_type": "code",
   "execution_count": 5,
   "id": "d18ad74a-9a91-465f-b0a2-597a94835c5b",
   "metadata": {},
   "outputs": [
    {
     "name": "stdout",
     "output_type": "stream",
     "text": [
      "Description:\n",
      "              price          area    bedrooms   bathrooms\n",
      "count  5.450000e+02    545.000000  545.000000  545.000000\n",
      "mean   4.766729e+06   5150.541284    2.965138    1.286239\n",
      "std    1.870440e+06   2170.141023    0.738064    0.502470\n",
      "min    1.750000e+06   1650.000000    1.000000    1.000000\n",
      "25%    3.430000e+06   3600.000000    2.000000    1.000000\n",
      "50%    4.340000e+06   4600.000000    3.000000    1.000000\n",
      "75%    5.740000e+06   6360.000000    3.000000    2.000000\n",
      "max    1.330000e+07  16200.000000    6.000000    4.000000\n",
      "\n",
      "Information: \n",
      "\n",
      "<class 'pandas.core.frame.DataFrame'>\n",
      "RangeIndex: 545 entries, 0 to 544\n",
      "Data columns (total 4 columns):\n",
      " #   Column     Non-Null Count  Dtype\n",
      "---  ------     --------------  -----\n",
      " 0   price      545 non-null    int64\n",
      " 1   area       545 non-null    int64\n",
      " 2   bedrooms   545 non-null    int64\n",
      " 3   bathrooms  545 non-null    int64\n",
      "dtypes: int64(4)\n",
      "memory usage: 17.2 KB\n",
      "None\n"
     ]
    }
   ],
   "source": [
    "print(\"Description:\")\n",
    "print(housedata.describe())\n",
    "print(\"\\nInformation: \\n\")\n",
    "print(housedata.info())"
   ]
  },
  {
   "cell_type": "markdown",
   "id": "8c4ee72d-44e2-4913-bc32-f88a99e9b536",
   "metadata": {},
   "source": [
    "### Plotting data"
   ]
  },
  {
   "cell_type": "code",
   "execution_count": 6,
   "id": "126ac642-3397-4802-895d-e77d9640c5f3",
   "metadata": {},
   "outputs": [
    {
     "data": {
      "text/plain": [
       "array([[<Axes: title={'center': 'price'}>,\n",
       "        <Axes: title={'center': 'area'}>],\n",
       "       [<Axes: title={'center': 'bedrooms'}>,\n",
       "        <Axes: title={'center': 'bathrooms'}>]], dtype=object)"
      ]
     },
     "execution_count": 6,
     "metadata": {},
     "output_type": "execute_result"
    },
    {
     "data": {
      "image/png": "[encoded data removed]",
      "text/plain": [
       "<Figure size 640x480 with 4 Axes>"
      ]
     },
     "metadata": {},
     "output_type": "display_data"
    }
   ],
   "source": [
    "housedata.hist()"
   ]
  },
  {
   "cell_type": "markdown",
   "id": "f75570b9-0340-473b-9307-986206a1d08f",
   "metadata": {},
   "source": [
    "### Using scatter plot"
   ]
  },
  {
   "cell_type": "code",
   "execution_count": 7,
   "id": "63274e2f-855e-44a8-bd87-601151f267ad",
   "metadata": {},
   "outputs": [
    {
     "data": {
      "text/plain": [
       "array([[<Axes: xlabel='price', ylabel='price'>,\n",
       "        <Axes: xlabel='area', ylabel='price'>,\n",
       "        <Axes: xlabel='bedrooms', ylabel='price'>,\n",
       "        <Axes: xlabel='bathrooms', ylabel='price'>],\n",
       "       [<Axes: xlabel='price', ylabel='area'>,\n",
       "        <Axes: xlabel='area', ylabel='area'>,\n",
       "        <Axes: xlabel='bedrooms', ylabel='area'>,\n",
       "        <Axes: xlabel='bathrooms', ylabel='area'>],\n",
       "       [<Axes: xlabel='price', ylabel='bedrooms'>,\n",
       "        <Axes: xlabel='area', ylabel='bedrooms'>,\n",
       "        <Axes: xlabel='bedrooms', ylabel='bedrooms'>,\n",
       "        <Axes: xlabel='bathrooms', ylabel='bedrooms'>],\n",
       "       [<Axes: xlabel='price', ylabel='bathrooms'>,\n",
       "        <Axes: xlabel='area', ylabel='bathrooms'>,\n",
       "        <Axes: xlabel='bedrooms', ylabel='bathrooms'>,\n",
       "        <Axes: xlabel='bathrooms', ylabel='bathrooms'>]], dtype=object)"
      ]
     },
     "execution_count": 7,
     "metadata": {},
     "output_type": "execute_result"
    },
    {
     "data": {
      "image/png": "[encoded data removed]",
      "text/plain": [
       "<Figure size 640x480 with 16 Axes>"
      ]
     },
     "metadata": {},
     "output_type": "display_data"
    }
   ],
   "source": [
    "# get scatter matrix - multi-dimensional data\n",
    "from pandas.plotting import scatter_matrix\n",
    "\n",
    "# plot the housedata\n",
    "scatter_matrix(housedata)"
   ]
  },
  {
   "cell_type": "markdown",
   "id": "46a5d877-74f9-4618-aa11-01bf3481d92a",
   "metadata": {},
   "source": [
    "### Spliting data into features and labels\n",
    "\n",
    "#### features are: area, bedrooms, bathrooms\n",
    "#### label is: price"
   ]
  },
  {
   "cell_type": "code",
   "execution_count": 8,
   "id": "875bfa91-22a4-43d6-bb0e-5163fb39325b",
   "metadata": {},
   "outputs": [
    {
     "name": "stdout",
     "output_type": "stream",
     "text": [
      "Size of house data: \n",
      " 545 \n",
      "\n",
      "House Features:\n",
      "      area  bedrooms  bathrooms\n",
      "0    7420         4          2\n",
      "1    8960         4          4\n",
      "2    9960         3          2\n",
      "3    7500         4          2\n",
      "4    7420         4          1\n",
      "..    ...       ...        ...\n",
      "540  3000         2          1\n",
      "541  2400         3          1\n",
      "542  3620         2          1\n",
      "543  2910         3          1\n",
      "544  3850         3          1\n",
      "\n",
      "[545 rows x 3 columns]\n",
      "House Labels:\n",
      " 0      13300000\n",
      "1      12250000\n",
      "2      12250000\n",
      "3      12215000\n",
      "4      11410000\n",
      "         ...   \n",
      "540     1820000\n",
      "541     1767150\n",
      "542     1750000\n",
      "543     1750000\n",
      "544     1750000\n",
      "Name: price, Length: 545, dtype: int64\n"
     ]
    }
   ],
   "source": [
    "# Main data\n",
    "housedata\n",
    "\n",
    "# Size of house\n",
    "print(\"Size of house data: \\n\", len(housedata), \"\\n\")\n",
    "\n",
    "# Separate features\n",
    "features = housedata.drop(\"price\", axis = 1)\n",
    "\n",
    "# Separate labels\n",
    "labels = housedata[\"price\"]\n",
    "\n",
    "# Look at features\n",
    "print(\"House Features:\\n\", features)\n",
    "\n",
    "# Look at labels\n",
    "print(\"House Labels:\\n\", labels)"
   ]
  },
  {
   "cell_type": "markdown",
   "id": "90779063-0b62-4fca-95fa-f0048650328e",
   "metadata": {},
   "source": [
    "### Spliting Train-Test data"
   ]
  },
  {
   "cell_type": "code",
   "execution_count": 9,
   "id": "2d7c49e7-461e-4565-8830-000670ec0b9d",
   "metadata": {},
   "outputs": [
    {
     "name": "stdout",
     "output_type": "stream",
     "text": [
      "Size of train features:  463\n",
      "Size of test features:  82\n",
      "\n",
      "Size of train labels:  463\n",
      "Size of test labels:  82\n",
      "\n",
      "Train Features:\n",
      "       area  bedrooms  bathrooms\n",
      "238   4510         4          2\n",
      "342   7152         3          1\n",
      "389   4600         4          1\n",
      "108   3240         4          1\n",
      "350   3420         2          1\n",
      "..     ...       ...        ...\n",
      "70    4000         3          2\n",
      "277  10360         2          1\n",
      "9     5750         3          2\n",
      "359   3600         3          1\n",
      "192   6600         3          1\n",
      "\n",
      "[463 rows x 3 columns]\n",
      "Test Features:\n",
      "       area  bedrooms  bathrooms\n",
      "239   4000         3          1\n",
      "113   9620         3          1\n",
      "325   3460         4          1\n",
      "66   13200         2          1\n",
      "479   3660         4          1\n",
      "..     ...       ...        ...\n",
      "89    8580         5          3\n",
      "543   2910         3          1\n",
      "381   4000         2          1\n",
      "436   2145         3          1\n",
      "196   7686         3          1\n",
      "\n",
      "[82 rows x 3 columns]\n",
      "\n",
      "Train Labels:\n",
      " 238    4613000\n",
      "342    3850000\n",
      "389    3500000\n",
      "108    6107500\n",
      "350    3780000\n",
      "        ...   \n",
      "70     6790000\n",
      "277    4305000\n",
      "9      9800000\n",
      "359    3710000\n",
      "192    5040000\n",
      "Name: price, Length: 463, dtype: int64\n",
      "Test Labels:\n",
      " 239    4585000\n",
      "113    6083000\n",
      "325    4007500\n",
      "66     6930000\n",
      "479    2940000\n",
      "        ...   \n",
      "89     6440000\n",
      "543    1750000\n",
      "381    3605000\n",
      "436    3290000\n",
      "196    4970000\n",
      "Name: price, Length: 82, dtype: int64\n"
     ]
    }
   ],
   "source": [
    "# using train-test-spliting function of sklearn\n",
    "# import the train_test_split\n",
    "from sklearn.model_selection import train_test_split\n",
    "\n",
    "# For convenience, Features are X axis data\n",
    "# Labels are Y axis data\n",
    "X = features\n",
    "Y = labels\n",
    "\n",
    "# x_train data and x_test data for features\n",
    "# y_train data and y_test data for labels\n",
    "x_train, x_test, y_train, y_test = train_test_split(X, Y, train_size = 0.85, test_size = 0.15, random_state = 0)\n",
    "\n",
    "# Size of features\n",
    "print(\"Size of train features: \", len(x_train))\n",
    "print(\"Size of test features: \", len(x_test))\n",
    "\n",
    "print()\n",
    "\n",
    "# Size of features\n",
    "print(\"Size of train labels: \", len(y_train))\n",
    "print(\"Size of test labels: \", len(y_test))\n",
    "\n",
    "print()\n",
    "# Glance at Train and Test features\n",
    "print(\"Train Features:\\n\", x_train)\n",
    "print(\"Test Features:\\n\", x_test)\n",
    "\n",
    "print()\n",
    "\n",
    "# Glance at Train and Test labels\n",
    "print(\"Train Labels:\\n\", y_train)\n",
    "print(\"Test Labels:\\n\", y_test)"
   ]
  },
  {
   "cell_type": "markdown",
   "id": "a85df326-740a-4fb7-9e94-ec36268e4f47",
   "metadata": {},
   "source": [
    "### Model Selection\n",
    "\n",
    "#### We will use Linear Regression model to predict house price"
   ]
  },
  {
   "cell_type": "code",
   "execution_count": 10,
   "id": "f966629f-69fc-45ab-991d-f78a8a77413a",
   "metadata": {},
   "outputs": [],
   "source": [
    "from sklearn.linear_model import LinearRegression"
   ]
  },
  {
   "cell_type": "markdown",
   "id": "58066b70-7a35-43ee-a87d-49bdb46b8efb",
   "metadata": {},
   "source": [
    "### Create a linear regression model"
   ]
  },
  {
   "cell_type": "code",
   "execution_count": 11,
   "id": "6692bc09-daab-433d-866d-8f059870c157",
   "metadata": {},
   "outputs": [],
   "source": [
    "model = LinearRegression()"
   ]
  },
  {
   "cell_type": "markdown",
   "id": "b614fad1-cd19-4dbf-8d6a-75e04dcb36d7",
   "metadata": {},
   "source": [
    "### Fitting data into the model"
   ]
  },
  {
   "cell_type": "code",
   "execution_count": 12,
   "id": "8fe9116d-29cd-4cd3-a1af-9774e8cbc021",
   "metadata": {},
   "outputs": [
    {
     "data": {
      "text/html": [
       "<style>#sk-container-id-1 {color: black;}#sk-container-id-1 pre{padding: 0;}#sk-container-id-1 div.sk-toggleable {background-color: white;}#sk-container-id-1 label.sk-toggleable__label {cursor: pointer;display: block;width: 100%;margin-bottom: 0;padding: 0.3em;box-sizing: border-box;text-align: center;}#sk-container-id-1 label.sk-toggleable__label-arrow:before {content: \"▸\";float: left;margin-right: 0.25em;color: #696969;}#sk-container-id-1 label.sk-toggleable__label-arrow:hover:before {color: black;}#sk-container-id-1 div.sk-estimator:hover label.sk-toggleable__label-arrow:before {color: black;}#sk-container-id-1 div.sk-toggleable__content {max-height: 0;max-width: 0;overflow: hidden;text-align: left;background-color: #f0f8ff;}#sk-container-id-1 div.sk-toggleable__content pre {margin: 0.2em;color: black;border-radius: 0.25em;background-color: #f0f8ff;}#sk-container-id-1 input.sk-toggleable__control:checked~div.sk-toggleable__content {max-height: 200px;max-width: 100%;overflow: auto;}#sk-container-id-1 input.sk-toggleable__control:checked~label.sk-toggleable__label-arrow:before {content: \"▾\";}#sk-container-id-1 div.sk-estimator input.sk-toggleable__control:checked~label.sk-toggleable__label {background-color: #d4ebff;}#sk-container-id-1 div.sk-label input.sk-toggleable__control:checked~label.sk-toggleable__label {background-color: #d4ebff;}#sk-container-id-1 input.sk-hidden--visually {border: 0;clip: rect(1px 1px 1px 1px);clip: rect(1px, 1px, 1px, 1px);height: 1px;margin: -1px;overflow: hidden;padding: 0;position: absolute;width: 1px;}#sk-container-id-1 div.sk-estimator {font-family: monospace;background-color: #f0f8ff;border: 1px dotted black;border-radius: 0.25em;box-sizing: border-box;margin-bottom: 0.5em;}#sk-container-id-1 div.sk-estimator:hover {background-color: #d4ebff;}#sk-container-id-1 div.sk-parallel-item::after {content: \"\";width: 100%;border-bottom: 1px solid gray;flex-grow: 1;}#sk-container-id-1 div.sk-label:hover label.sk-toggleable__label {background-color: #d4ebff;}#sk-container-id-1 div.sk-serial::before {content: \"\";position: absolute;border-left: 1px solid gray;box-sizing: border-box;top: 0;bottom: 0;left: 50%;z-index: 0;}#sk-container-id-1 div.sk-serial {display: flex;flex-direction: column;align-items: center;background-color: white;padding-right: 0.2em;padding-left: 0.2em;position: relative;}#sk-container-id-1 div.sk-item {position: relative;z-index: 1;}#sk-container-id-1 div.sk-parallel {display: flex;align-items: stretch;justify-content: center;background-color: white;position: relative;}#sk-container-id-1 div.sk-item::before, #sk-container-id-1 div.sk-parallel-item::before {content: \"\";position: absolute;border-left: 1px solid gray;box-sizing: border-box;top: 0;bottom: 0;left: 50%;z-index: -1;}#sk-container-id-1 div.sk-parallel-item {display: flex;flex-direction: column;z-index: 1;position: relative;background-color: white;}#sk-container-id-1 div.sk-parallel-item:first-child::after {align-self: flex-end;width: 50%;}#sk-container-id-1 div.sk-parallel-item:last-child::after {align-self: flex-start;width: 50%;}#sk-container-id-1 div.sk-parallel-item:only-child::after {width: 0;}#sk-container-id-1 div.sk-dashed-wrapped {border: 1px dashed gray;margin: 0 0.4em 0.5em 0.4em;box-sizing: border-box;padding-bottom: 0.4em;background-color: white;}#sk-container-id-1 div.sk-label label {font-family: monospace;font-weight: bold;display: inline-block;line-height: 1.2em;}#sk-container-id-1 div.sk-label-container {text-align: center;}#sk-container-id-1 div.sk-container {/* jupyter's `normalize.less` sets `[hidden] { display: none; }` but bootstrap.min.css set `[hidden] { display: none !important; }` so we also need the `!important` here to be able to override the default hidden behavior on the sphinx rendered scikit-learn.org. See: https://github.com/scikit-learn/scikit-learn/issues/21755 */display: inline-block !important;position: relative;}#sk-container-id-1 div.sk-text-repr-fallback {display: none;}</style><div id=\"sk-container-id-1\" class=\"sk-top-container\"><div class=\"sk-text-repr-fallback\"><pre>LinearRegression()</pre><b>In a Jupyter environment, please rerun this cell to show the HTML representation or trust the notebook. <br />On GitHub, the HTML representation is unable to render, please try loading this page with nbviewer.org.</b></div><div class=\"sk-container\" hidden><div class=\"sk-item\"><div class=\"sk-estimator sk-toggleable\"><input class=\"sk-toggleable__control sk-hidden--visually\" id=\"sk-estimator-id-1\" type=\"checkbox\" checked><label for=\"sk-estimator-id-1\" class=\"sk-toggleable__label sk-toggleable__label-arrow\">LinearRegression</label><div class=\"sk-toggleable__content\"><pre>LinearRegression()</pre></div></div></div></div></div>"
      ],
      "text/plain": [
       "LinearRegression()"
      ]
     },
     "execution_count": 12,
     "metadata": {},
     "output_type": "execute_result"
    }
   ],
   "source": [
    "model.fit(x_train, y_train)"
   ]
  },
  {
   "cell_type": "markdown",
   "id": "aa858633-8d79-4164-8f4a-737d3e5a93b7",
   "metadata": {},
   "source": [
    "### Predict labels using test features"
   ]
  },
  {
   "cell_type": "code",
   "execution_count": 13,
   "id": "43b07fc2-68c9-49f8-ae2b-f4c2ba9be25f",
   "metadata": {},
   "outputs": [],
   "source": [
    "pred_y_labels = model.predict(x_test)"
   ]
  },
  {
   "cell_type": "code",
   "execution_count": 14,
   "id": "d42a93cb-c4ce-4215-84c9-c52039948433",
   "metadata": {},
   "outputs": [
    {
     "name": "stdout",
     "output_type": "stream",
     "text": [
      "[3937563.35342532 6114879.42741327 4193982.4640431  7036225.59525161\n",
      " 4271467.02183627]\n"
     ]
    }
   ],
   "source": [
    "# Glance at predicted values\n",
    "print(pred_y_labels[:5])"
   ]
  },
  {
   "cell_type": "markdown",
   "id": "551898cb-b0a8-4fd0-b712-407a2316fe7f",
   "metadata": {},
   "source": [
    "### Model Evaluation : Accuracy\n",
    "\n",
    "#### we will  use mean absolute percentage error to find the accuracy"
   ]
  },
  {
   "cell_type": "code",
   "execution_count": 15,
   "id": "29182acb-bcca-40fc-aad1-83a29ffa054d",
   "metadata": {},
   "outputs": [
    {
     "name": "stdout",
     "output_type": "stream",
     "text": [
      "<class 'pandas.core.frame.DataFrame'>\n",
      "Percentage of absolute error is  0.1933982917005743\n"
     ]
    }
   ],
   "source": [
    "# will use mean_absolute_percentage_error() fromm sklearn\n",
    "from sklearn.metrics import mean_absolute_percentage_error\n",
    "\n",
    "# find error \n",
    "err = mean_absolute_percentage_error(y_test, pred_y_labels)\n",
    "\n",
    "print(type(x_test))\n",
    "\n",
    "print(\"Percentage of absolute error is \", err)"
   ]
  },
  {
   "cell_type": "markdown",
   "id": "b5ede384",
   "metadata": {},
   "source": [
    "### Saving the model\n",
    "\n",
    "#### We will use joblib to save our model object to a file"
   ]
  },
  {
   "cell_type": "code",
   "execution_count": 16,
   "id": "b3757410",
   "metadata": {},
   "outputs": [
    {
     "data": {
      "text/plain": [
       "['model/hpricepredictor.sav']"
      ]
     },
     "execution_count": 16,
     "metadata": {},
     "output_type": "execute_result"
    }
   ],
   "source": [
    "# to save the model for later use\n",
    "import joblib\n",
    "\n",
    "# save the file to local device\n",
    "modelfile = \"model/hpricepredictor.sav\"\n",
    "joblib.dump(model, modelfile)"
   ]
  },
  {
   "cell_type": "markdown",
   "id": "6c8244cc",
   "metadata": {},
   "source": [
    "### Loading the model from local file\n",
    "\n",
    "#### Same can be done using joblib"
   ]
  },
  {
   "cell_type": "code",
   "execution_count": 17,
   "id": "ecec1e3e",
   "metadata": {},
   "outputs": [],
   "source": [
    "# load model from the file\n",
    "loaded_model = joblib.load(\"model/hpricepredictor.sav\")"
   ]
  },
  {
   "cell_type": "markdown",
   "id": "0e3955e5-9241-4310-b7d4-621b6f7a6514",
   "metadata": {},
   "source": [
    "## Test on a data"
   ]
  },
  {
   "cell_type": "code",
   "execution_count": 20,
   "id": "c1b6d175-0379-40b1-992b-369f5c53a691",
   "metadata": {},
   "outputs": [
    {
     "name": "stdout",
     "output_type": "stream",
     "text": [
      "   area  bedrooms  bathrooms\n",
      "0   500         1          0\n",
      "\n",
      "Price of the house:  228510\n"
     ]
    }
   ],
   "source": [
    "# test data\n",
    "area =  500\n",
    "bedrooms = 1\n",
    "bathrooms = 0\n",
    "\n",
    "# making a list of data\n",
    "data = { \"area\" : [area], \"bedrooms\" : [bedrooms], \"bathrooms\" : [bathrooms] }\n",
    "\n",
    "# making data frame for model\n",
    "test_data = pd.DataFrame(data)\n",
    "\n",
    "# glance our test data\n",
    "print(test_data)\n",
    "\n",
    "# predict the price of house using above features\n",
    "result = loaded_model.predict(test_data)\n",
    "\n",
    "# price\n",
    "print(\"\\nPrice of the house: \", round(result[0]))"
   ]
  }
 ],
 "metadata": {
  "kernelspec": {
   "display_name": "Python 3 (ipykernel)",
   "language": "python",
   "name": "python3"
  },
  "language_info": {
   "codemirror_mode": {
    "name": "ipython",
    "version": 3
   },
   "file_extension": ".py",
   "mimetype": "text/x-python",
   "name": "python",
   "nbconvert_exporter": "python",
   "pygments_lexer": "ipython3",
   "version": "3.12.0"
  }
 },
 "nbformat": 4,
 "nbformat_minor": 5
}
